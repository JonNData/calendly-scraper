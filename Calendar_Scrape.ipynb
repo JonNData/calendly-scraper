{
  "nbformat": 4,
  "nbformat_minor": 0,
  "metadata": {
    "colab": {
      "name": "Calendar_Scrape.ipynb",
      "provenance": []
    },
    "kernelspec": {
      "name": "python3",
      "display_name": "Python 3"
    }
  },
  "cells": [
    {
      "cell_type": "markdown",
      "metadata": {
        "id": "mSje9McuuQ2g",
        "colab_type": "text"
      },
      "source": [
        "## Website at: https://calendly.com/lambda-ds-endorsement/final-endorsement-review-data-science?month=2020-07"
      ]
    },
    {
      "cell_type": "code",
      "metadata": {
        "id": "Nn7skQTtuNrK",
        "colab_type": "code",
        "colab": {}
      },
      "source": [
        "\n",
        "import requests\n",
        "from bs4 import BeautifulSoup\n",
        "from pprint import pprint\n",
        "from datetime import date\n",
        "from datetime import datetime\n",
        "from time import strptime\n",
        "from functools import partial\n",
        "import numpy as np\n"
      ],
      "execution_count": 2,
      "outputs": []
    },
    {
      "cell_type": "code",
      "metadata": {
        "id": "80rorLugureI",
        "colab_type": "code",
        "colab": {}
      },
      "source": [
        "SCRAPING_URL = \"https://calendly.com/lambda-ds-endorsement/final-endorsement-review-data-science?month=2020-08\"\n",
        "UNAVAILABLE = 'Please call 02 4730 4333 to check water availability.'\n",
        "\n",
        "\n",
        "def get_soup():\n",
        "    html_doc = requests.get(SCRAPING_URL).text\n",
        "    # with open('content.html', 'r') as handle:\n",
        "    # html_doc = handle.read()\n",
        "    return BeautifulSoup(html_doc, 'html.parser')"
      ],
      "execution_count": 4,
      "outputs": []
    },
    {
      "cell_type": "code",
      "metadata": {
        "id": "_U8cTP21u3sf",
        "colab_type": "code",
        "colab": {
          "base_uri": "https://localhost:8080/",
          "height": 870
        },
        "outputId": "7a600ce8-c94b-47e3-b2ec-e7da96ae92e7"
      },
      "source": [
        "get_soup()"
      ],
      "execution_count": 28,
      "outputs": [
        {
          "output_type": "execute_result",
          "data": {
            "text/plain": [
              "<!DOCTYPE html>\n",
              "\n",
              "<html lang=\"en\">\n",
              "<head>\n",
              "<title>\n",
              "Calendly - Lambda DS\n",
              "</title>\n",
              "<meta charset=\"utf-8\"/>\n",
              "<script>window.NREUM||(NREUM={});NREUM.info={\"beacon\":\"bam.nr-data.net\",\"errorBeacon\":\"bam.nr-data.net\",\"licenseKey\":\"8d89f0cc64\",\"applicationID\":\"2276997\",\"transactionName\":\"IFdeRkQOWlhTSx8HCgxTWVxRTlVVWlxeAQQRF0NaWRY=\",\"queueTime\":5,\"applicationTime\":124,\"agent\":\"\"}</script>\n",
              "<script>(window.NREUM||(NREUM={})).loader_config={xpid:\"VwUDWFRaGwECU1dbDgY=\",licenseKey:\"8d89f0cc64\",applicationID:\"2276997\"};window.NREUM||(NREUM={}),__nr_require=function(t,n,e){function r(e){if(!n[e]){var o=n[e]={exports:{}};t[e][0].call(o.exports,function(n){var o=t[e][1][n];return r(o||n)},o,o.exports)}return n[e].exports}if(\"function\"==typeof __nr_require)return __nr_require;for(var o=0;o<e.length;o++)r(e[o]);return r}({1:[function(t,n,e){function r(t){try{s.console&&console.log(t)}catch(n){}}var o,i=t(\"ee\"),a=t(21),s={};try{o=localStorage.getItem(\"__nr_flags\").split(\",\"),console&&\"function\"==typeof console.log&&(s.console=!0,o.indexOf(\"dev\")!==-1&&(s.dev=!0),o.indexOf(\"nr_dev\")!==-1&&(s.nrDev=!0))}catch(c){}s.nrDev&&i.on(\"internal-error\",function(t){r(t.stack)}),s.dev&&i.on(\"fn-err\",function(t,n,e){r(e.stack)}),s.dev&&(r(\"NR AGENT IN DEVELOPMENT MODE\"),r(\"flags: \"+a(s,function(t,n){return t}).join(\", \")))},{}],2:[function(t,n,e){function r(t,n,e,r,s){try{p?p-=1:o(s||new UncaughtException(t,n,e),!0)}catch(f){try{i(\"ierr\",[f,c.now(),!0])}catch(d){}}return\"function\"==typeof u&&u.apply(this,a(arguments))}function UncaughtException(t,n,e){this.message=t||\"Uncaught error with no additional information\",this.sourceURL=n,this.line=e}function o(t,n){var e=n?null:c.now();i(\"err\",[t,e])}var i=t(\"handle\"),a=t(22),s=t(\"ee\"),c=t(\"loader\"),f=t(\"gos\"),u=window.onerror,d=!1,l=\"nr@seenError\",p=0;c.features.err=!0,t(1),window.onerror=r;try{throw new Error}catch(h){\"stack\"in h&&(t(9),t(8),\"addEventListener\"in window&&t(5),c.xhrWrappable&&t(10),d=!0)}s.on(\"fn-start\",function(t,n,e){d&&(p+=1)}),s.on(\"fn-err\",function(t,n,e){d&&!e[l]&&(f(e,l,function(){return!0}),this.thrown=!0,o(e))}),s.on(\"fn-end\",function(){d&&!this.thrown&&p>0&&(p-=1)}),s.on(\"internal-error\",function(t){i(\"ierr\",[t,c.now(),!0])})},{}],3:[function(t,n,e){t(\"loader\").features.ins=!0},{}],4:[function(t,n,e){function r(t){}if(window.performance&&window.performance.timing&&window.performance.getEntriesByType){var o=t(\"ee\"),i=t(\"handle\"),a=t(9),s=t(8),c=\"learResourceTimings\",f=\"addEventListener\",u=\"resourcetimingbufferfull\",d=\"bstResource\",l=\"resource\",p=\"-start\",h=\"-end\",m=\"fn\"+p,w=\"fn\"+h,v=\"bstTimer\",g=\"pushState\",y=t(\"loader\");y.features.stn=!0,t(7),\"addEventListener\"in window&&t(5);var x=NREUM.o.EV;o.on(m,function(t,n){var e=t[0];e instanceof x&&(this.bstStart=y.now())}),o.on(w,function(t,n){var e=t[0];e instanceof x&&i(\"bst\",[e,n,this.bstStart,y.now()])}),a.on(m,function(t,n,e){this.bstStart=y.now(),this.bstType=e}),a.on(w,function(t,n){i(v,[n,this.bstStart,y.now(),this.bstType])}),s.on(m,function(){this.bstStart=y.now()}),s.on(w,function(t,n){i(v,[n,this.bstStart,y.now(),\"requestAnimationFrame\"])}),o.on(g+p,function(t){this.time=y.now(),this.startPath=location.pathname+location.hash}),o.on(g+h,function(t){i(\"bstHist\",[location.pathname+location.hash,this.startPath,this.time])}),f in window.performance&&(window.performance[\"c\"+c]?window.performance[f](u,function(t){i(d,[window.performance.getEntriesByType(l)]),window.performance[\"c\"+c]()},!1):window.performance[f](\"webkit\"+u,function(t){i(d,[window.performance.getEntriesByType(l)]),window.performance[\"webkitC\"+c]()},!1)),document[f](\"scroll\",r,{passive:!0}),document[f](\"keypress\",r,!1),document[f](\"click\",r,!1)}},{}],5:[function(t,n,e){function r(t){for(var n=t;n&&!n.hasOwnProperty(u);)n=Object.getPrototypeOf(n);n&&o(n)}function o(t){s.inPlace(t,[u,d],\"-\",i)}function i(t,n){return t[1]}var a=t(\"ee\").get(\"events\"),s=t(\"wrap-function\")(a,!0),c=t(\"gos\"),f=XMLHttpRequest,u=\"addEventListener\",d=\"removeEventListener\";n.exports=a,\"getPrototypeOf\"in Object?(r(document),r(window),r(f.prototype)):f.prototype.hasOwnProperty(u)&&(o(window),o(f.prototype)),a.on(u+\"-start\",function(t,n){var e=t[1],r=c(e,\"nr@wrapped\",function(){function t(){if(\"function\"==typeof e.handleEvent)return e.handleEvent.apply(e,arguments)}var n={object:t,\"function\":e}[typeof e];return n?s(n,\"fn-\",null,n.name||\"anonymous\"):e});this.wrapped=t[1]=r}),a.on(d+\"-start\",function(t){t[1]=this.wrapped||t[1]})},{}],6:[function(t,n,e){function r(t,n,e){var r=t[n];\"function\"==typeof r&&(t[n]=function(){var t=i(arguments),n={};o.emit(e+\"before-start\",[t],n);var a;n[m]&&n[m].dt&&(a=n[m].dt);var s=r.apply(this,t);return o.emit(e+\"start\",[t,a],s),s.then(function(t){return o.emit(e+\"end\",[null,t],s),t},function(t){throw o.emit(e+\"end\",[t],s),t})})}var o=t(\"ee\").get(\"fetch\"),i=t(22),a=t(21);n.exports=o;var s=window,c=\"fetch-\",f=c+\"body-\",u=[\"arrayBuffer\",\"blob\",\"json\",\"text\",\"formData\"],d=s.Request,l=s.Response,p=s.fetch,h=\"prototype\",m=\"nr@context\";d&&l&&p&&(a(u,function(t,n){r(d[h],n,f),r(l[h],n,f)}),r(s,\"fetch\",c),o.on(c+\"end\",function(t,n){var e=this;if(n){var r=n.headers.get(\"content-length\");null!==r&&(e.rxSize=r),o.emit(c+\"done\",[null,n],e)}else o.emit(c+\"done\",[t],e)}))},{}],7:[function(t,n,e){var r=t(\"ee\").get(\"history\"),o=t(\"wrap-function\")(r);n.exports=r;var i=window.history&&window.history.constructor&&window.history.constructor.prototype,a=window.history;i&&i.pushState&&i.replaceState&&(a=i),o.inPlace(a,[\"pushState\",\"replaceState\"],\"-\")},{}],8:[function(t,n,e){var r=t(\"ee\").get(\"raf\"),o=t(\"wrap-function\")(r),i=\"equestAnimationFrame\";n.exports=r,o.inPlace(window,[\"r\"+i,\"mozR\"+i,\"webkitR\"+i,\"msR\"+i],\"raf-\"),r.on(\"raf-start\",function(t){t[0]=o(t[0],\"fn-\")})},{}],9:[function(t,n,e){function r(t,n,e){t[0]=a(t[0],\"fn-\",null,e)}function o(t,n,e){this.method=e,this.timerDuration=isNaN(t[1])?0:+t[1],t[0]=a(t[0],\"fn-\",this,e)}var i=t(\"ee\").get(\"timer\"),a=t(\"wrap-function\")(i),s=\"setTimeout\",c=\"setInterval\",f=\"clearTimeout\",u=\"-start\",d=\"-\";n.exports=i,a.inPlace(window,[s,\"setImmediate\"],s+d),a.inPlace(window,[c],c+d),a.inPlace(window,[f,\"clearImmediate\"],f+d),i.on(c+u,r),i.on(s+u,o)},{}],10:[function(t,n,e){function r(t,n){d.inPlace(n,[\"onreadystatechange\"],\"fn-\",s)}function o(){var t=this,n=u.context(t);t.readyState>3&&!n.resolved&&(n.resolved=!0,u.emit(\"xhr-resolved\",[],t)),d.inPlace(t,g,\"fn-\",s)}function i(t){y.push(t),h&&(b?b.then(a):w?w(a):(E=-E,O.data=E))}function a(){for(var t=0;t<y.length;t++)r([],y[t]);y.length&&(y=[])}function s(t,n){return n}function c(t,n){for(var e in t)n[e]=t[e];return n}t(5);var f=t(\"ee\"),u=f.get(\"xhr\"),d=t(\"wrap-function\")(u),l=NREUM.o,p=l.XHR,h=l.MO,m=l.PR,w=l.SI,v=\"readystatechange\",g=[\"onload\",\"onerror\",\"onabort\",\"onloadstart\",\"onloadend\",\"onprogress\",\"ontimeout\"],y=[];n.exports=u;var x=window.XMLHttpRequest=function(t){var n=new p(t);try{u.emit(\"new-xhr\",[n],n),n.addEventListener(v,o,!1)}catch(e){try{u.emit(\"internal-error\",[e])}catch(r){}}return n};if(c(p,x),x.prototype=p.prototype,d.inPlace(x.prototype,[\"open\",\"send\"],\"-xhr-\",s),u.on(\"send-xhr-start\",function(t,n){r(t,n),i(n)}),u.on(\"open-xhr-start\",r),h){var b=m&&m.resolve();if(!w&&!m){var E=1,O=document.createTextNode(E);new h(a).observe(O,{characterData:!0})}}else f.on(\"fn-end\",function(t){t[0]&&t[0].type===v||a()})},{}],11:[function(t,n,e){function r(t){if(!i(t))return null;var n=window.NREUM;if(!n.loader_config)return null;var e=(n.loader_config.accountID||\"\").toString()||null,r=(n.loader_config.agentID||\"\").toString()||null,s=(n.loader_config.trustKey||\"\").toString()||null;if(!e||!r)return null;var c=a.generateCatId(),f=a.generateCatId(),u=Date.now(),d=o(c,f,u,e,r,s);return{header:d,guid:c,traceId:f,timestamp:u}}function o(t,n,e,r,o,i){var a=\"btoa\"in window&&\"function\"==typeof window.btoa;if(!a)return null;var s={v:[0,1],d:{ty:\"Browser\",ac:r,ap:o,id:t,tr:n,ti:e}};return i&&r!==i&&(s.d.tk=i),btoa(JSON.stringify(s))}function i(t){var n=!1,e=!1,r={};if(\"init\"in NREUM&&\"distributed_tracing\"in NREUM.init&&(r=NREUM.init.distributed_tracing,e=!!r.enabled),e)if(t.sameOrigin)n=!0;else if(r.allowed_origins instanceof Array)for(var o=0;o<r.allowed_origins.length;o++){var i=s(r.allowed_origins[o]);if(t.hostname===i.hostname&&t.protocol===i.protocol&&t.port===i.port){n=!0;break}}return e&&n}var a=t(19),s=t(13);n.exports={generateTracePayload:r,shouldGenerateTrace:i}},{}],12:[function(t,n,e){function r(t){var n=this.params,e=this.metrics;if(!this.ended){this.ended=!0;for(var r=0;r<l;r++)t.removeEventListener(d[r],this.listener,!1);n.aborted||(e.duration=a.now()-this.startTime,this.loadCaptureCalled||4!==t.readyState?null==n.status&&(n.status=0):i(this,t),e.cbTime=this.cbTime,u.emit(\"xhr-done\",[t],t),s(\"xhr\",[n,e,this.startTime]))}}function o(t,n){var e=c(n),r=t.params;r.host=e.hostname+\":\"+e.port,r.pathname=e.pathname,t.parsedOrigin=c(n),t.sameOrigin=t.parsedOrigin.sameOrigin}function i(t,n){t.params.status=n.status;var e=w(n,t.lastSize);if(e&&(t.metrics.rxSize=e),t.sameOrigin){var r=n.getResponseHeader(\"X-NewRelic-App-Data\");r&&(t.params.cat=r.split(\", \").pop())}t.loadCaptureCalled=!0}var a=t(\"loader\");if(a.xhrWrappable){var s=t(\"handle\"),c=t(13),f=t(11).generateTracePayload,u=t(\"ee\"),d=[\"load\",\"error\",\"abort\",\"timeout\"],l=d.length,p=t(\"id\"),h=t(17),m=t(16),w=t(14),v=window.XMLHttpRequest;a.features.xhr=!0,t(10),t(6),u.on(\"new-xhr\",function(t){var n=this;n.totalCbs=0,n.called=0,n.cbTime=0,n.end=r,n.ended=!1,n.xhrGuids={},n.lastSize=null,n.loadCaptureCalled=!1,t.addEventListener(\"load\",function(e){i(n,t)},!1),h&&(h>34||h<10)||window.opera||t.addEventListener(\"progress\",function(t){n.lastSize=t.loaded},!1)}),u.on(\"open-xhr-start\",function(t){this.params={method:t[0]},o(this,t[1]),this.metrics={}}),u.on(\"open-xhr-end\",function(t,n){\"loader_config\"in NREUM&&\"xpid\"in NREUM.loader_config&&this.sameOrigin&&n.setRequestHeader(\"X-NewRelic-ID\",NREUM.loader_config.xpid);var e=f(this.parsedOrigin);e&&e.header&&(n.setRequestHeader(\"newrelic\",e.header),this.dt=e)}),u.on(\"send-xhr-start\",function(t,n){var e=this.metrics,r=t[0],o=this;if(e&&r){var i=m(r);i&&(e.txSize=i)}this.startTime=a.now(),this.listener=function(t){try{\"abort\"!==t.type||o.loadCaptureCalled||(o.params.aborted=!0),(\"load\"!==t.type||o.called===o.totalCbs&&(o.onloadCalled||\"function\"!=typeof n.onload))&&o.end(n)}catch(e){try{u.emit(\"internal-error\",[e])}catch(r){}}};for(var s=0;s<l;s++)n.addEventListener(d[s],this.listener,!1)}),u.on(\"xhr-cb-time\",function(t,n,e){this.cbTime+=t,n?this.onloadCalled=!0:this.called+=1,this.called!==this.totalCbs||!this.onloadCalled&&\"function\"==typeof e.onload||this.end(e)}),u.on(\"xhr-load-added\",function(t,n){var e=\"\"+p(t)+!!n;this.xhrGuids&&!this.xhrGuids[e]&&(this.xhrGuids[e]=!0,this.totalCbs+=1)}),u.on(\"xhr-load-removed\",function(t,n){var e=\"\"+p(t)+!!n;this.xhrGuids&&this.xhrGuids[e]&&(delete this.xhrGuids[e],this.totalCbs-=1)}),u.on(\"addEventListener-end\",function(t,n){n instanceof v&&\"load\"===t[0]&&u.emit(\"xhr-load-added\",[t[1],t[2]],n)}),u.on(\"removeEventListener-end\",function(t,n){n instanceof v&&\"load\"===t[0]&&u.emit(\"xhr-load-removed\",[t[1],t[2]],n)}),u.on(\"fn-start\",function(t,n,e){n instanceof v&&(\"onload\"===e&&(this.onload=!0),(\"load\"===(t[0]&&t[0].type)||this.onload)&&(this.xhrCbStart=a.now()))}),u.on(\"fn-end\",function(t,n){this.xhrCbStart&&u.emit(\"xhr-cb-time\",[a.now()-this.xhrCbStart,this.onload,n],n)}),u.on(\"fetch-before-start\",function(t){var n,e=t[1]||{};\"string\"==typeof t[0]?n=t[0]:t[0]&&t[0].url&&(n=t[0].url),n&&(this.parsedOrigin=c(n),this.sameOrigin=this.parsedOrigin.sameOrigin);var r=f(this.parsedOrigin);if(r&&r.header){var o=r.header;if(\"string\"==typeof t[0]){var i={};for(var a in e)i[a]=e[a];i.headers=new Headers(e.headers||{}),i.headers.set(\"newrelic\",o),this.dt=r,t.length>1?t[1]=i:t.push(i)}else t[0]&&t[0].headers&&(t[0].headers.append(\"newrelic\",o),this.dt=r)}})}},{}],13:[function(t,n,e){var r={};n.exports=function(t){if(t in r)return r[t];var n=document.createElement(\"a\"),e=window.location,o={};n.href=t,o.port=n.port;var i=n.href.split(\"://\");!o.port&&i[1]&&(o.port=i[1].split(\"/\")[0].split(\"@\").pop().split(\":\")[1]),o.port&&\"0\"!==o.port||(o.port=\"https\"===i[0]?\"443\":\"80\"),o.hostname=n.hostname||e.hostname,o.pathname=n.pathname,o.protocol=i[0],\"/\"!==o.pathname.charAt(0)&&(o.pathname=\"/\"+o.pathname);var a=!n.protocol||\":\"===n.protocol||n.protocol===e.protocol,s=n.hostname===document.domain&&n.port===e.port;return o.sameOrigin=a&&(!n.hostname||s),\"/\"===o.pathname&&(r[t]=o),o}},{}],14:[function(t,n,e){function r(t,n){var e=t.responseType;return\"json\"===e&&null!==n?n:\"arraybuffer\"===e||\"blob\"===e||\"json\"===e?o(t.response):\"text\"===e||\"\"===e||void 0===e?o(t.responseText):void 0}var o=t(16);n.exports=r},{}],15:[function(t,n,e){function r(){}function o(t,n,e){return function(){return i(t,[f.now()].concat(s(arguments)),n?null:this,e),n?void 0:this}}var i=t(\"handle\"),a=t(21),s=t(22),c=t(\"ee\").get(\"tracer\"),f=t(\"loader\"),u=NREUM;\"undefined\"==typeof window.newrelic&&(newrelic=u);var d=[\"setPageViewName\",\"setCustomAttribute\",\"setErrorHandler\",\"finished\",\"addToTrace\",\"inlineHit\",\"addRelease\"],l=\"api-\",p=l+\"ixn-\";a(d,function(t,n){u[n]=o(l+n,!0,\"api\")}),u.addPageAction=o(l+\"addPageAction\",!0),u.setCurrentRouteName=o(l+\"routeName\",!0),n.exports=newrelic,u.interaction=function(){return(new r).get()};var h=r.prototype={createTracer:function(t,n){var e={},r=this,o=\"function\"==typeof n;return i(p+\"tracer\",[f.now(),t,e],r),function(){if(c.emit((o?\"\":\"no-\")+\"fn-start\",[f.now(),r,o],e),o)try{return n.apply(this,arguments)}catch(t){throw c.emit(\"fn-err\",[arguments,this,t],e),t}finally{c.emit(\"fn-end\",[f.now()],e)}}}};a(\"actionText,setName,setAttribute,save,ignore,onEnd,getContext,end,get\".split(\",\"),function(t,n){h[n]=o(p+n)}),newrelic.noticeError=function(t,n){\"string\"==typeof t&&(t=new Error(t)),i(\"err\",[t,f.now(),!1,n])}},{}],16:[function(t,n,e){n.exports=function(t){if(\"string\"==typeof t&&t.length)return t.length;if(\"object\"==typeof t){if(\"undefined\"!=typeof ArrayBuffer&&t instanceof ArrayBuffer&&t.byteLength)return t.byteLength;if(\"undefined\"!=typeof Blob&&t instanceof Blob&&t.size)return t.size;if(!(\"undefined\"!=typeof FormData&&t instanceof FormData))try{return JSON.stringify(t).length}catch(n){return}}}},{}],17:[function(t,n,e){var r=0,o=navigator.userAgent.match(/Firefox[\\/\\s](\\d+\\.\\d+)/);o&&(r=+o[1]),n.exports=r},{}],18:[function(t,n,e){function r(t,n){var e=t.getEntries();e.forEach(function(t){\"first-paint\"===t.name?c(\"timing\",[\"fp\",Math.floor(t.startTime)]):\"first-contentful-paint\"===t.name&&c(\"timing\",[\"fcp\",Math.floor(t.startTime)])})}function o(t,n){var e=t.getEntries();e.length>0&&c(\"lcp\",[e[e.length-1]])}function i(t){if(t instanceof u&&!l){var n,e=Math.round(t.timeStamp);n=e>1e12?Date.now()-e:f.now()-e,l=!0,c(\"timing\",[\"fi\",e,{type:t.type,fid:n}])}}if(!(\"init\"in NREUM&&\"page_view_timing\"in NREUM.init&&\"enabled\"in NREUM.init.page_view_timing&&NREUM.init.page_view_timing.enabled===!1)){var a,s,c=t(\"handle\"),f=t(\"loader\"),u=NREUM.o.EV;if(\"PerformanceObserver\"in window&&\"function\"==typeof window.PerformanceObserver){a=new PerformanceObserver(r),s=new PerformanceObserver(o);try{a.observe({entryTypes:[\"paint\"]}),s.observe({entryTypes:[\"largest-contentful-paint\"]})}catch(d){}}if(\"addEventListener\"in document){var l=!1,p=[\"click\",\"keydown\",\"mousedown\",\"pointerdown\",\"touchstart\"];p.forEach(function(t){document.addEventListener(t,i,!1)})}}},{}],19:[function(t,n,e){function r(){function t(){return n?15&n[e++]:16*Math.random()|0}var n=null,e=0,r=window.crypto||window.msCrypto;r&&r.getRandomValues&&(n=r.getRandomValues(new Uint8Array(31)));for(var o,i=\"xxxxxxxx-xxxx-4xxx-yxxx-xxxxxxxxxxxx\",a=\"\",s=0;s<i.length;s++)o=i[s],\"x\"===o?a+=t().toString(16):\"y\"===o?(o=3&t()|8,a+=o.toString(16)):a+=o;return a}function o(){function t(){return n?15&n[e++]:16*Math.random()|0}var n=null,e=0,r=window.crypto||window.msCrypto;r&&r.getRandomValues&&Uint8Array&&(n=r.getRandomValues(new Uint8Array(31)));for(var o=[],i=0;i<16;i++)o.push(t().toString(16));return o.join(\"\")}n.exports={generateUuid:r,generateCatId:o}},{}],20:[function(t,n,e){function r(t,n){if(!o)return!1;if(t!==o)return!1;if(!n)return!0;if(!i)return!1;for(var e=i.split(\".\"),r=n.split(\".\"),a=0;a<r.length;a++)if(r[a]!==e[a])return!1;return!0}var o=null,i=null,a=/Version\\/(\\S+)\\s+Safari/;if(navigator.userAgent){var s=navigator.userAgent,c=s.match(a);c&&s.indexOf(\"Chrome\")===-1&&s.indexOf(\"Chromium\")===-1&&(o=\"Safari\",i=c[1])}n.exports={agent:o,version:i,match:r}},{}],21:[function(t,n,e){function r(t,n){var e=[],r=\"\",i=0;for(r in t)o.call(t,r)&&(e[i]=n(r,t[r]),i+=1);return e}var o=Object.prototype.hasOwnProperty;n.exports=r},{}],22:[function(t,n,e){function r(t,n,e){n||(n=0),\"undefined\"==typeof e&&(e=t?t.length:0);for(var r=-1,o=e-n||0,i=Array(o<0?0:o);++r<o;)i[r]=t[n+r];return i}n.exports=r},{}],23:[function(t,n,e){n.exports={exists:\"undefined\"!=typeof window.performance&&window.performance.timing&&\"undefined\"!=typeof window.performance.timing.navigationStart}},{}],ee:[function(t,n,e){function r(){}function o(t){function n(t){return t&&t instanceof r?t:t?c(t,s,i):i()}function e(e,r,o,i){if(!l.aborted||i){t&&t(e,r,o);for(var a=n(o),s=m(e),c=s.length,f=0;f<c;f++)s[f].apply(a,r);var d=u[y[e]];return d&&d.push([x,e,r,a]),a}}function p(t,n){g[t]=m(t).concat(n)}function h(t,n){var e=g[t];if(e)for(var r=0;r<e.length;r++)e[r]===n&&e.splice(r,1)}function m(t){return g[t]||[]}function w(t){return d[t]=d[t]||o(e)}function v(t,n){f(t,function(t,e){n=n||\"feature\",y[e]=n,n in u||(u[n]=[])})}var g={},y={},x={on:p,addEventListener:p,removeEventListener:h,emit:e,get:w,listeners:m,context:n,buffer:v,abort:a,aborted:!1};return x}function i(){return new r}function a(){(u.api||u.feature)&&(l.aborted=!0,u=l.backlog={})}var s=\"nr@context\",c=t(\"gos\"),f=t(21),u={},d={},l=n.exports=o();l.backlog=u},{}],gos:[function(t,n,e){function r(t,n,e){if(o.call(t,n))return t[n];var r=e();if(Object.defineProperty&&Object.keys)try{return Object.defineProperty(t,n,{value:r,writable:!0,enumerable:!1}),r}catch(i){}return t[n]=r,r}var o=Object.prototype.hasOwnProperty;n.exports=r},{}],handle:[function(t,n,e){function r(t,n,e,r){o.buffer([t],r),o.emit(t,n,e)}var o=t(\"ee\").get(\"handle\");n.exports=r,r.ee=o},{}],id:[function(t,n,e){function r(t){var n=typeof t;return!t||\"object\"!==n&&\"function\"!==n?-1:t===window?0:a(t,i,function(){return o++})}var o=1,i=\"nr@id\",a=t(\"gos\");n.exports=r},{}],loader:[function(t,n,e){function r(){if(!E++){var t=b.info=NREUM.info,n=p.getElementsByTagName(\"script\")[0];if(setTimeout(u.abort,3e4),!(t&&t.licenseKey&&t.applicationID&&n))return u.abort();f(y,function(n,e){t[n]||(t[n]=e)}),c(\"mark\",[\"onload\",a()+b.offset],null,\"api\");var e=p.createElement(\"script\");e.src=\"https://\"+t.agent,n.parentNode.insertBefore(e,n)}}function o(){\"complete\"===p.readyState&&i()}function i(){c(\"mark\",[\"domContent\",a()+b.offset],null,\"api\")}function a(){return O.exists&&performance.now?Math.round(performance.now()):(s=Math.max((new Date).getTime(),s))-b.offset}var s=(new Date).getTime(),c=t(\"handle\"),f=t(21),u=t(\"ee\"),d=t(20),l=window,p=l.document,h=\"addEventListener\",m=\"attachEvent\",w=l.XMLHttpRequest,v=w&&w.prototype;NREUM.o={ST:setTimeout,SI:l.setImmediate,CT:clearTimeout,XHR:w,REQ:l.Request,EV:l.Event,PR:l.Promise,MO:l.MutationObserver};var g=\"\"+location,y={beacon:\"bam.nr-data.net\",errorBeacon:\"bam.nr-data.net\",agent:\"js-agent.newrelic.com/nr-1169.min.js\"},x=w&&v&&v[h]&&!/CriOS/.test(navigator.userAgent),b=n.exports={offset:s,now:a,origin:g,features:{},xhrWrappable:x,userAgent:d};t(15),t(18),p[h]?(p[h](\"DOMContentLoaded\",i,!1),l[h](\"load\",r,!1)):(p[m](\"onreadystatechange\",o),l[m](\"onload\",r)),c(\"mark\",[\"firstbyte\",s],null,\"api\");var E=0,O=t(23)},{}],\"wrap-function\":[function(t,n,e){function r(t){return!(t&&t instanceof Function&&t.apply&&!t[a])}var o=t(\"ee\"),i=t(22),a=\"nr@original\",s=Object.prototype.hasOwnProperty,c=!1;n.exports=function(t,n){function e(t,n,e,o){function nrWrapper(){var r,a,s,c;try{a=this,r=i(arguments),s=\"function\"==typeof e?e(r,a):e||{}}catch(f){l([f,\"\",[r,a,o],s])}u(n+\"start\",[r,a,o],s);try{return c=t.apply(a,r)}catch(d){throw u(n+\"err\",[r,a,d],s),d}finally{u(n+\"end\",[r,a,c],s)}}return r(t)?t:(n||(n=\"\"),nrWrapper[a]=t,d(t,nrWrapper),nrWrapper)}function f(t,n,o,i){o||(o=\"\");var a,s,c,f=\"-\"===o.charAt(0);for(c=0;c<n.length;c++)s=n[c],a=t[s],r(a)||(t[s]=e(a,f?s+o:o,i,s))}function u(e,r,o){if(!c||n){var i=c;c=!0;try{t.emit(e,r,o,n)}catch(a){l([a,e,r,o])}c=i}}function d(t,n){if(Object.defineProperty&&Object.keys)try{var e=Object.keys(t);return e.forEach(function(e){Object.defineProperty(n,e,{get:function(){return t[e]},set:function(n){return t[e]=n,n}})}),n}catch(r){l([r])}for(var o in t)s.call(t,o)&&(n[o]=t[o]);return n}function l(n){try{t.emit(\"internal-error\",n)}catch(e){}}return t||(t=o),e.inPlace=f,e.flag=a,e}},{}]},{},[\"loader\",2,12,4,3]);</script>\n",
              "<meta content=\"width=device-width, initial-scale=1\" name=\"viewport\"/>\n",
              "<meta content=\"yes\" name=\"apple-mobile-web-app-capable\"/>\n",
              "<meta content=\"A live interview covering a variety of Data Science topics. Please email your resume to your interviewer ahead of the interview.\" name=\"description\"/>\n",
              "<meta content=\"noindex\" name=\"robots\"/>\n",
              "<meta content=\"Final Endorsement Review - Data Science - Lambda DS\" property=\"og:title\"/>\n",
              "<meta content=\"website\" property=\"og:type\"/>\n",
              "<meta content=\"https://calendly.com/lambda-ds-endorsement/final-endorsement-review-data-science\" property=\"og:url\"/>\n",
              "<meta content=\"Calendly\" property=\"og:site_name\"/>\n",
              "<meta content=\"A live interview covering a variety of Data Science topics. Please email your resume to your interviewer ahead of the interview.\" property=\"og:description\"/>\n",
              "<meta content=\"Lambda DS\" property=\"og:author\"/>\n",
              "<meta content=\"https://d3v0px0pttie1i.cloudfront.net/uploads/organization/logo/1478025/opengraph_a6915a9a.png?source=opengraph\" property=\"og:image\"/>\n",
              "<meta content=\"Final Endorsement Review - Data Science - Lambda DS\" name=\"twitter:title\"/>\n",
              "<meta content=\"A live interview covering a variety of Data Science topics. Please email your resume to your interviewer ahead of the interview.\" name=\"twitter:description\"/>\n",
              "<meta content=\"summary_large_image\" name=\"twitter:card\"/>\n",
              "<meta content=\"@Calendly\" name=\"twitter:site\"/>\n",
              "<meta content=\"https://calendly.com/lambda-ds-endorsement/final-endorsement-review-data-science\" name=\"twitter:url\"/>\n",
              "<meta content=\"https://d3v0px0pttie1i.cloudfront.net/uploads/organization/logo/1478025/twitter_a6915a9a.png?source=opengraph\" name=\"twitter:image\"/>\n",
              "<script>\n",
              "  window.BackendData = {\"settings\":{\"asset_host\":\"assets.calendly.com\",\"maxUploadFileSize\":5242880,\"animation\":{\"enabled\":true},\"segment\":{\"enabled\":true,\"write_key\":\"rfvnxd6wnn\"},\"google_ads\":{\"enabled\":true,\"id\":\"AW-725106552\",\"signup_conversion_id\":\"AW-725106552/9u2_CM3O3aUBEPj-4NkC\",\"billing_conversion_id\":\"AW-725106552/joG7CKLj2qUBEPj-4NkC\"},\"google_analytics\":{\"enabled\":true,\"id\":\"UA-42305411-1\"},\"google_optimize\":{\"enabled\":true,\"id\":\"GTM-K6ZWQ4X\"},\"airbrake\":{\"id\":90109,\"key\":\"33e7bfc479c92accc9cf887bd3de1db5\",\"js\":{\"enabled\":true}},\"server_time\":1592691321,\"force_ssl\":true,\"locale\":{\"endonyms\":{\"de\":\"Deutsch\",\"en\":\"English\",\"es\":\"Español\",\"fr\":\"Français\",\"it\":\"Italiano\",\"nl\":\"Nederlands\",\"ps\":\"Ṕṡḛḛṵṵḍṓṓ\",\"pt\":\"Português (Brasil)\"}},\"stripe\":{\"publishable_key\":\"pk_live_4OzOoy92HleIbsrNaabJtaIx\"},\"paypal\":{\"env\":\"production\",\"client_id\":\"AUPF8VFKX8BsjR3ON0IDB71s2tcW_RF-q-ppFwFU81LfDUCyhPChAeATXYPeGsgLIlB9TEN_bkh-_ASb\"},\"recaptcha\":{\"site_key\":\"6LeAb4QUAAAAAOM9CNYSsvbnzWTByRAgm3GA5D4n\",\"activated\":true},\"ehawk\":{\"activated\":false}},\"feature_flags\":{\"enable_exchange\":false,\"stripe_restrict_connect\":false,\"paypal_restrict_connect\":false,\"buffers_v2_feature\":false,\"improved_et_location_2019_feature\":false,\"apps_page_outlook_addin_feature\":false,\"in_app_banner_feature\":false,\"apps_page_firefox_extension_feature\":false,\"facebook_pixel_feature\":false,\"mailchimp_feature\":false,\"clients_gmail_toolbar_feature\":false,\"workflows_feature\":false,\"availability_ux_improvements_feature\":false,\"paypal_plans_feature\":false,\"interview_feature\":false,\"profitwell_retain_feature\":true,\"api_v2_parity_feature\":false,\"org_event_types_feature\":false,\"quick_event_feature\":false,\"wysiwyg_friendly_variable_styling_feature\":false,\"workflows_sms_host_feature\":false,\"workflows_template_gallery_feature\":false,\"improved_rolling_days_feature\":false,\"availability_profile_feature\":false,\"billing_popups_refactor_feature\":false,\"legacy_api_v2_cancellation_feature\":false,\"workflows_gmail_feature\":false,\"api_v2_user_management_feature\":true,\"greenhouse_feature\":false,\"optimized_balanced_round_robin_feature\":false,\"collect_postal_code_feature\":false,\"busy_time_caching_feature\":false,\"api_v2_common_feature\":true,\"microsoft_teams_feature\":false,\"booking\":{\"enable_exchange\":true,\"stripe_restrict_connect\":false,\"paypal_restrict_connect\":false,\"buffers_v2_feature\":false,\"improved_et_location_2019_feature\":true,\"apps_page_outlook_addin_feature\":true,\"in_app_banner_feature\":false,\"apps_page_firefox_extension_feature\":true,\"facebook_pixel_feature\":true,\"mailchimp_feature\":true,\"clients_gmail_toolbar_feature\":true,\"workflows_feature\":false,\"availability_ux_improvements_feature\":false,\"paypal_plans_feature\":false,\"interview_feature\":false,\"profitwell_retain_feature\":true,\"api_v2_parity_feature\":false,\"org_event_types_feature\":false,\"quick_event_feature\":false,\"wysiwyg_friendly_variable_styling_feature\":false,\"workflows_sms_host_feature\":false,\"workflows_template_gallery_feature\":false,\"improved_rolling_days_feature\":false,\"availability_profile_feature\":false,\"billing_popups_refactor_feature\":false,\"legacy_api_v2_cancellation_feature\":false,\"workflows_gmail_feature\":false,\"api_v2_user_management_feature\":true,\"greenhouse_feature\":false,\"optimized_balanced_round_robin_feature\":false,\"collect_postal_code_feature\":false,\"busy_time_caching_feature\":false,\"api_v2_common_feature\":true,\"microsoft_teams_feature\":false}},\"locale\":\"en\",\"modules\":{\"current_user\":{\"email\":null,\"locale\":null,\"date_notation\":null,\"time_notation\":null,\"avatar_url\":null,\"calendar_accounts\":null},\"segment\":{},\"booking\":{\"profile\":{\"id\":3467055,\"slug\":\"lambda-ds-endorsement\",\"name\":\"Lambda DS\",\"description\":\"Welcome to our scheduling page. Please follow the instructions to add an event to our calendar.\",\"timezone\":\"America/Los_Angeles\",\"avatar_url\":null,\"unbranded\":false,\"logo_url\":\"https://d3v0px0pttie1i.cloudfront.net/uploads/organization/logo/1478025/a6915a9a.png\"},\"current_user\":{\"email\":null,\"locale\":null,\"date_notation\":null,\"time_notation\":null,\"avatar_url\":null,\"calendar_accounts\":null,\"diagnostics\":{\"available\":false,\"enabled\":false}},\"badge\":{\"visible\":true,\"path\":\"/?utm_campaign=sign_up\\u0026utm_medium=badge\\u0026utm_source=invitee\"},\"google_analytics_tracking_code\":null,\"facebook_pixel_tracking_code\":null,\"custom_theme\":null,\"single_use_link_slug\":null,\"timezone\":\"America/Los_Angeles\",\"last_availability\":\"2020-08-19T15:15:21-07:00\",\"next_availability\":\"2020-06-22T09:00:00-07:00\",\"new_invitee\":{},\"predefined_answers\":{},\"predefined_guests\":[],\"tracking\":{},\"event_type\":{\"id\":19721651,\"description\":\"\\u003cp\\u003eA live interview covering a variety of Data Science topics. Please email your resume to your interviewer ahead of the interview.\\u003c/p\\u003e\",\"color\":\"#8989fc\",\"duration\":60,\"max_booking_time\":86400,\"slug\":\"final-endorsement-review-data-science\",\"public\":false,\"start_date\":null,\"end_date\":null,\"another_event_button_content\":\"Schedule another event\",\"another_event_button_enabled\":false,\"lock_timezone_content\":\"\",\"lock_timezone_enabled\":false,\"period_type\":\"moving\",\"kind\":\"solo\",\"booking_autofill\":true,\"uuid\":\"EEAPAX3DZQ2LU2G7\",\"type\":\"StandardEventType\",\"hide_location\":false,\"invitee_name_format\":\"combined\",\"locale\":\"en\",\"invitee_name\":null,\"invitee_email\":null,\"location_label\":null,\"guests_allowed\":true,\"location\":null,\"availability_timezone\":\"America/Los_Angeles\",\"owner_type\":\"Page\",\"location_include_other\":false,\"name\":\"Final Endorsement Review - Data Science\",\"show_custom_links\":false,\"sms_reminder_enabled\":false,\"multi_publisher\":true,\"location_type\":\"unknown\",\"has_active_payment_method\":false,\"publishers_list\":\"Lambda DS\",\"is_paypal_email_unconfirmed\":null,\"confirmation_page_type\":\"internal\",\"edit_path\":\"/teams/76943/event_types/19721651/edit\",\"custom_fields\":[{\"id\":5445587,\"name\":\"Please share anything that will help prepare for our meeting.\",\"format\":\"text\",\"required\":false,\"position\":0,\"answer_choices\":null,\"include_other\":false},{\"id\":10781142,\"name\":\"Is this interview a reattempt? \",\"format\":\"choices_one\",\"required\":true,\"position\":1,\"answer_choices\":[\"Yes\",\"No\"],\"include_other\":false}],\"custom_links\":[],\"location_configurations\":[],\"payment_account\":null,\"payment_method\":null,\"redirect_configuration\":null},\"url_params\":{\"month\":\"2020-08\"},\"country_code\":\"US\",\"is_owner\":null,\"is_et_member\":false,\"ab_options\":{},\"integrations\":{\"mailchimp\":{\"show_invitee_consent\":false}},\"recent_user\":null},\"gdpr\":{\"is_eu\":false,\"enforce_opt_in\":false,\"reload_required\":false}},\"components\":[]}\n",
              "</script>\n",
              "<link href=\"https://assets.calendly.com/assets/favicon-6c298004c5e8a7eb846b3a356bc6d036c1a880e5d22163f4f52a7e3d6bb12109.ico\" rel=\"shortcut icon\" type=\"image/x-icon\"/>\n",
              "<link href=\"https://assets.calendly.com/assets/touch-icon-iphone-1505f4afb6438bd528bbce368a44a76d03bd0882a99fee0dd7e580619a51d90b.png\" rel=\"apple-touch-icon\" type=\"image/png\"/>\n",
              "<link href=\"https://assets.calendly.com/assets/touch-icon-ipad-c78983fc5670bb96247a6a5dfea781507f8a43beab6654cbbebbe98020d449fc.png\" rel=\"apple-touch-icon\" sizes=\"76x76\" type=\"image/png\"/>\n",
              "<link href=\"https://assets.calendly.com/assets/touch-icon-iphone-retina-769205f9ab22bc258dd769c906d6ede677aa2f899a19286df1b0c4d10fbf68cf.png\" rel=\"apple-touch-icon\" sizes=\"120x120\" type=\"image/png\"/>\n",
              "<link href=\"https://assets.calendly.com/assets/touch-icon-ipad-retina-7a95e0c775301f4c0a22002bdf0a95d3c2b9cbe95af29c64f9c9573bac1f01e4.png\" rel=\"apple-touch-icon\" sizes=\"152x152\" type=\"image/png\"/>\n",
              "<meta content=\"authenticity_token\" name=\"csrf-param\">\n",
              "<meta content=\"eAzkOHBCz9lQPSKPC0M/Z8ceJknvXUvMRkFdHvYs+GiROiE2pA8q3KzMQXDVwtElVA3lcF09SnvpFVTWk23hLg==\" name=\"csrf-token\">\n",
              "<link href=\"https://assets.calendly.com/packs/css/vendors-booking_v3-3cab4779.chunk.css\" media=\"screen\" rel=\"stylesheet\"/>\n",
              "<link href=\"https://assets.calendly.com/packs/css/booking_v3-87b513ec.chunk.css\" media=\"screen\" rel=\"stylesheet\"/>\n",
              "<script src=\"https://assets.calendly.com/packs/js/runtime-83c509c181e6977795ba.js\"></script>\n",
              "<script src=\"https://assets.calendly.com/packs/js/vendors-booking_v3-588ff9cd26ad7c325f5c.chunk.js\"></script>\n",
              "<script src=\"https://assets.calendly.com/packs/js/booking_v3-2a9b2c19d21eb10ecc6b.chunk.js\"></script>\n",
              "</meta></meta></head>\n",
              "<body>\n",
              "<div id=\"page-region\">\n",
              "</div>\n",
              "<div id=\"gdpr-region\"></div>\n",
              "</body>\n",
              "</html>"
            ]
          },
          "metadata": {
            "tags": []
          },
          "execution_count": 28
        }
      ]
    },
    {
      "cell_type": "code",
      "metadata": {
        "id": "5ZKuRdINy9ed",
        "colab_type": "code",
        "colab": {
          "base_uri": "https://localhost:8080/",
          "height": 1000
        },
        "outputId": "cc05755e-41e9-40ed-c2b4-0159057a725a"
      },
      "source": [
        "r = requests.get('https://calendly.com/api/booking/event_types/EEAPAX3DZQ2LU2G7/calendar/range?timezone=America%2FLos_Angeles&diagnostics=false&range_start=2020-07-01&range_end=2020-08-20&single_use_link_uuid=')\n",
        "r.json()"
      ],
      "execution_count": 11,
      "outputs": [
        {
          "output_type": "execute_result",
          "data": {
            "text/plain": [
              "{'availability_timezone': 'America/Los_Angeles',\n",
              " 'current_user': {'avatar_url': None,\n",
              "  'calendar_accounts': None,\n",
              "  'date_notation': None,\n",
              "  'diagnostics': {'available': False, 'enabled': False},\n",
              "  'email': None,\n",
              "  'locale': None,\n",
              "  'time_notation': None},\n",
              " 'days': [{'date': '2020-07-06',\n",
              "   'invitee_events': [],\n",
              "   'spots': [],\n",
              "   'status': 'unavailable'},\n",
              "  {'date': '2020-07-07',\n",
              "   'invitee_events': [],\n",
              "   'spots': [],\n",
              "   'status': 'unavailable'},\n",
              "  {'date': '2020-07-08',\n",
              "   'invitee_events': [],\n",
              "   'spots': [],\n",
              "   'status': 'unavailable'},\n",
              "  {'date': '2020-07-09',\n",
              "   'invitee_events': [],\n",
              "   'spots': [],\n",
              "   'status': 'unavailable'},\n",
              "  {'date': '2020-07-10',\n",
              "   'invitee_events': [],\n",
              "   'spots': [],\n",
              "   'status': 'unavailable'},\n",
              "  {'date': '2020-07-13',\n",
              "   'invitee_events': [],\n",
              "   'spots': [],\n",
              "   'status': 'unavailable'},\n",
              "  {'date': '2020-07-14',\n",
              "   'invitee_events': [],\n",
              "   'spots': [],\n",
              "   'status': 'unavailable'},\n",
              "  {'date': '2020-07-15',\n",
              "   'invitee_events': [],\n",
              "   'spots': [],\n",
              "   'status': 'unavailable'},\n",
              "  {'date': '2020-07-16',\n",
              "   'invitee_events': [],\n",
              "   'spots': [],\n",
              "   'status': 'unavailable'},\n",
              "  {'date': '2020-07-17',\n",
              "   'invitee_events': [],\n",
              "   'spots': [],\n",
              "   'status': 'unavailable'},\n",
              "  {'date': '2020-07-20',\n",
              "   'invitee_events': [],\n",
              "   'spots': [],\n",
              "   'status': 'unavailable'},\n",
              "  {'date': '2020-07-21',\n",
              "   'invitee_events': [],\n",
              "   'spots': [],\n",
              "   'status': 'unavailable'},\n",
              "  {'date': '2020-07-22',\n",
              "   'invitee_events': [],\n",
              "   'spots': [],\n",
              "   'status': 'unavailable'},\n",
              "  {'date': '2020-07-23',\n",
              "   'invitee_events': [],\n",
              "   'spots': [],\n",
              "   'status': 'unavailable'},\n",
              "  {'date': '2020-07-24',\n",
              "   'invitee_events': [],\n",
              "   'spots': [],\n",
              "   'status': 'unavailable'},\n",
              "  {'date': '2020-07-27',\n",
              "   'invitee_events': [],\n",
              "   'spots': [],\n",
              "   'status': 'unavailable'},\n",
              "  {'date': '2020-07-28',\n",
              "   'invitee_events': [],\n",
              "   'spots': [],\n",
              "   'status': 'unavailable'},\n",
              "  {'date': '2020-07-29',\n",
              "   'invitee_events': [],\n",
              "   'spots': [],\n",
              "   'status': 'unavailable'},\n",
              "  {'date': '2020-07-30',\n",
              "   'invitee_events': [],\n",
              "   'spots': [],\n",
              "   'status': 'unavailable'},\n",
              "  {'date': '2020-07-31',\n",
              "   'invitee_events': [],\n",
              "   'spots': [],\n",
              "   'status': 'unavailable'},\n",
              "  {'date': '2020-08-03',\n",
              "   'invitee_events': [],\n",
              "   'spots': [],\n",
              "   'status': 'unavailable'},\n",
              "  {'date': '2020-08-04',\n",
              "   'invitee_events': [],\n",
              "   'spots': [],\n",
              "   'status': 'unavailable'},\n",
              "  {'date': '2020-08-05',\n",
              "   'invitee_events': [],\n",
              "   'spots': [],\n",
              "   'status': 'unavailable'},\n",
              "  {'date': '2020-08-06',\n",
              "   'invitee_events': [],\n",
              "   'spots': [],\n",
              "   'status': 'unavailable'},\n",
              "  {'date': '2020-08-07',\n",
              "   'invitee_events': [],\n",
              "   'spots': [],\n",
              "   'status': 'unavailable'},\n",
              "  {'date': '2020-08-10',\n",
              "   'invitee_events': [],\n",
              "   'spots': [],\n",
              "   'status': 'unavailable'},\n",
              "  {'date': '2020-08-11',\n",
              "   'invitee_events': [],\n",
              "   'spots': [{'start_time': '2020-08-11T14:00:00-07:00',\n",
              "     'status': 'available'}],\n",
              "   'status': 'available'},\n",
              "  {'date': '2020-08-12',\n",
              "   'invitee_events': [],\n",
              "   'spots': [],\n",
              "   'status': 'unavailable'},\n",
              "  {'date': '2020-08-13',\n",
              "   'invitee_events': [],\n",
              "   'spots': [],\n",
              "   'status': 'unavailable'},\n",
              "  {'date': '2020-08-14',\n",
              "   'invitee_events': [],\n",
              "   'spots': [{'start_time': '2020-08-14T14:00:00-07:00',\n",
              "     'status': 'available'},\n",
              "    {'start_time': '2020-08-14T15:00:00-07:00', 'status': 'available'}],\n",
              "   'status': 'available'},\n",
              "  {'date': '2020-08-17',\n",
              "   'invitee_events': [],\n",
              "   'spots': [{'start_time': '2020-08-17T14:00:00-07:00',\n",
              "     'status': 'available'}],\n",
              "   'status': 'available'},\n",
              "  {'date': '2020-08-18',\n",
              "   'invitee_events': [],\n",
              "   'spots': [{'start_time': '2020-08-18T14:00:00-07:00',\n",
              "     'status': 'available'}],\n",
              "   'status': 'available'},\n",
              "  {'date': '2020-08-19',\n",
              "   'invitee_events': [],\n",
              "   'spots': [{'start_time': '2020-08-19T13:00:00-07:00',\n",
              "     'status': 'available'},\n",
              "    {'start_time': '2020-08-19T14:00:00-07:00', 'status': 'available'}],\n",
              "   'status': 'available'},\n",
              "  {'date': '2020-08-20',\n",
              "   'invitee_events': [],\n",
              "   'spots': [],\n",
              "   'status': 'unavailable'}],\n",
              " 'diagnostic_data': None,\n",
              " 'invitee_publisher_error': False,\n",
              " 'today': '2020-06-20'}"
            ]
          },
          "metadata": {
            "tags": []
          },
          "execution_count": 11
        }
      ]
    },
    {
      "cell_type": "code",
      "metadata": {
        "id": "0KKqPRz2gWcI",
        "colab_type": "code",
        "colab": {}
      },
      "source": [
        "response = r.json()"
      ],
      "execution_count": 12,
      "outputs": []
    },
    {
      "cell_type": "code",
      "metadata": {
        "id": "y_ek66fIwjMZ",
        "colab_type": "code",
        "colab": {
          "base_uri": "https://localhost:8080/",
          "height": 102
        },
        "outputId": "d7e254d7-0449-4c52-f0aa-fec5aa92954d"
      },
      "source": [
        "for i in range(34):\n",
        "  if response['days'][i]['status'] == 'available':\n",
        "    date = response['days'][i]['date']\n",
        "    print(f\"{date} has available slots\")"
      ],
      "execution_count": 29,
      "outputs": [
        {
          "output_type": "stream",
          "text": [
            "2020-08-11 has available slots\n",
            "2020-08-14 has available slots\n",
            "2020-08-17 has available slots\n",
            "2020-08-18 has available slots\n",
            "2020-08-19 has available slots\n"
          ],
          "name": "stdout"
        }
      ]
    },
    {
      "cell_type": "code",
      "metadata": {
        "id": "gMAxS88Zxx-X",
        "colab_type": "code",
        "colab": {
          "base_uri": "https://localhost:8080/",
          "height": 85
        },
        "outputId": "3b299e16-e7cc-4e9f-f9e8-5f9dad3ec12d"
      },
      "source": [
        "response['days'][4]"
      ],
      "execution_count": 70,
      "outputs": [
        {
          "output_type": "execute_result",
          "data": {
            "text/plain": [
              "{'date': '2020-07-10',\n",
              " 'invitee_events': [],\n",
              " 'spots': [],\n",
              " 'status': 'unavailable'}"
            ]
          },
          "metadata": {
            "tags": []
          },
          "execution_count": 70
        }
      ]
    },
    {
      "cell_type": "code",
      "metadata": {
        "id": "FrhZX5WCy72g",
        "colab_type": "code",
        "colab": {
          "base_uri": "https://localhost:8080/",
          "height": 54
        },
        "outputId": "944df175-e2cf-417f-a0cc-1a13b2a283bc"
      },
      "source": [
        "start_date = '2020-07-06'\n",
        "end_date = '2020-09-01'\n",
        "url = f'https://calendly.com/api/booking/event_types/EEAPAX3DZQ2LU2G7/calendar/range?timezone=America%2FLos_Angeles&diagnostics=false&range_start={start_date}&range_end={end_date}&single_use_link_uuid='\n",
        "url"
      ],
      "execution_count": 84,
      "outputs": [
        {
          "output_type": "execute_result",
          "data": {
            "text/plain": [
              "'https://calendly.com/api/booking/event_types/EEAPAX3DZQ2LU2G7/calendar/range?timezone=America%2FLos_Angeles&diagnostics=false&range_start=2020-07-06&range_end=2020-09-01&single_use_link_uuid='"
            ]
          },
          "metadata": {
            "tags": []
          },
          "execution_count": 84
        }
      ]
    },
    {
      "cell_type": "code",
      "metadata": {
        "id": "YgZPk6fcGLg2",
        "colab_type": "code",
        "colab": {
          "base_uri": "https://localhost:8080/",
          "height": 102
        },
        "outputId": "615616f6-28f9-4955-a0fa-b347f2385940"
      },
      "source": [
        "r1 = requests.get(url)\n",
        "response1 = r1.json()\n",
        "for i in range(42):\n",
        "  if response1['days'][i]['status'] == 'available':\n",
        "    date = response1['days'][i]['date']\n",
        "    print(f\"{date} has available slots\")"
      ],
      "execution_count": 85,
      "outputs": [
        {
          "output_type": "stream",
          "text": [
            "2020-08-11 has available slots\n",
            "2020-08-14 has available slots\n",
            "2020-08-17 has available slots\n",
            "2020-08-18 has available slots\n",
            "2020-08-19 has available slots\n"
          ],
          "name": "stdout"
        }
      ]
    },
    {
      "cell_type": "code",
      "metadata": {
        "id": "49xO-YNhGR31",
        "colab_type": "code",
        "colab": {
          "base_uri": "https://localhost:8080/",
          "height": 34
        },
        "outputId": "6d358c87-31a8-4b01-9a6c-51802472956c"
      },
      "source": [
        "import datetime\n",
        "end_datetime = datetime.datetime.strptime(end_date, '%Y-%m-%d')\n",
        "start_datetime = datetime.datetime.strptime(start_date, '%Y-%m-%d')\n",
        "end_datetime - start_datetime"
      ],
      "execution_count": 86,
      "outputs": [
        {
          "output_type": "execute_result",
          "data": {
            "text/plain": [
              "datetime.timedelta(57)"
            ]
          },
          "metadata": {
            "tags": []
          },
          "execution_count": 86
        }
      ]
    },
    {
      "cell_type": "code",
      "metadata": {
        "id": "dJyRQYfLKjfd",
        "colab_type": "code",
        "colab": {
          "base_uri": "https://localhost:8080/",
          "height": 34
        },
        "outputId": "a1534faa-671f-40e6-c3f1-bf54f03e4c65"
      },
      "source": [
        "days = np.busday_count( start_date, end_date )\n",
        "days +1"
      ],
      "execution_count": 95,
      "outputs": [
        {
          "output_type": "execute_result",
          "data": {
            "text/plain": [
              "42"
            ]
          },
          "metadata": {
            "tags": []
          },
          "execution_count": 95
        }
      ]
    },
    {
      "cell_type": "code",
      "metadata": {
        "id": "UtfK-bPrJgpn",
        "colab_type": "code",
        "colab": {
          "base_uri": "https://localhost:8080/",
          "height": 34
        },
        "outputId": "b1dc7f30-173c-4ffa-f9c2-91fadaccd88f"
      },
      "source": [
        "len(response1['days'])"
      ],
      "execution_count": 88,
      "outputs": [
        {
          "output_type": "execute_result",
          "data": {
            "text/plain": [
              "42"
            ]
          },
          "metadata": {
            "tags": []
          },
          "execution_count": 88
        }
      ]
    },
    {
      "cell_type": "code",
      "metadata": {
        "id": "53Ps0FRELyys",
        "colab_type": "code",
        "colab": {
          "base_uri": "https://localhost:8080/",
          "height": 1000
        },
        "outputId": "84cd2016-09be-476e-cdfb-11f4fe2209dd"
      },
      "source": [
        "[print(x) for x in response1['days']]"
      ],
      "execution_count": 89,
      "outputs": [
        {
          "output_type": "stream",
          "text": [
            "{'date': '2020-07-06', 'status': 'unavailable', 'spots': [], 'invitee_events': []}\n",
            "{'date': '2020-07-07', 'status': 'unavailable', 'spots': [], 'invitee_events': []}\n",
            "{'date': '2020-07-08', 'status': 'unavailable', 'spots': [], 'invitee_events': []}\n",
            "{'date': '2020-07-09', 'status': 'unavailable', 'spots': [], 'invitee_events': []}\n",
            "{'date': '2020-07-10', 'status': 'unavailable', 'spots': [], 'invitee_events': []}\n",
            "{'date': '2020-07-13', 'status': 'unavailable', 'spots': [], 'invitee_events': []}\n",
            "{'date': '2020-07-14', 'status': 'unavailable', 'spots': [], 'invitee_events': []}\n",
            "{'date': '2020-07-15', 'status': 'unavailable', 'spots': [], 'invitee_events': []}\n",
            "{'date': '2020-07-16', 'status': 'unavailable', 'spots': [], 'invitee_events': []}\n",
            "{'date': '2020-07-17', 'status': 'unavailable', 'spots': [], 'invitee_events': []}\n",
            "{'date': '2020-07-20', 'status': 'unavailable', 'spots': [], 'invitee_events': []}\n",
            "{'date': '2020-07-21', 'status': 'unavailable', 'spots': [], 'invitee_events': []}\n",
            "{'date': '2020-07-22', 'status': 'unavailable', 'spots': [], 'invitee_events': []}\n",
            "{'date': '2020-07-23', 'status': 'unavailable', 'spots': [], 'invitee_events': []}\n",
            "{'date': '2020-07-24', 'status': 'unavailable', 'spots': [], 'invitee_events': []}\n",
            "{'date': '2020-07-27', 'status': 'unavailable', 'spots': [], 'invitee_events': []}\n",
            "{'date': '2020-07-28', 'status': 'unavailable', 'spots': [], 'invitee_events': []}\n",
            "{'date': '2020-07-29', 'status': 'unavailable', 'spots': [], 'invitee_events': []}\n",
            "{'date': '2020-07-30', 'status': 'unavailable', 'spots': [], 'invitee_events': []}\n",
            "{'date': '2020-07-31', 'status': 'unavailable', 'spots': [], 'invitee_events': []}\n",
            "{'date': '2020-08-03', 'status': 'unavailable', 'spots': [], 'invitee_events': []}\n",
            "{'date': '2020-08-04', 'status': 'unavailable', 'spots': [], 'invitee_events': []}\n",
            "{'date': '2020-08-05', 'status': 'unavailable', 'spots': [], 'invitee_events': []}\n",
            "{'date': '2020-08-06', 'status': 'unavailable', 'spots': [], 'invitee_events': []}\n",
            "{'date': '2020-08-07', 'status': 'unavailable', 'spots': [], 'invitee_events': []}\n",
            "{'date': '2020-08-10', 'status': 'unavailable', 'spots': [], 'invitee_events': []}\n",
            "{'date': '2020-08-11', 'status': 'available', 'spots': [{'status': 'available', 'start_time': '2020-08-11T14:00:00-07:00'}], 'invitee_events': []}\n",
            "{'date': '2020-08-12', 'status': 'unavailable', 'spots': [], 'invitee_events': []}\n",
            "{'date': '2020-08-13', 'status': 'unavailable', 'spots': [], 'invitee_events': []}\n",
            "{'date': '2020-08-14', 'status': 'available', 'spots': [{'status': 'available', 'start_time': '2020-08-14T14:00:00-07:00'}, {'status': 'available', 'start_time': '2020-08-14T15:00:00-07:00'}], 'invitee_events': []}\n",
            "{'date': '2020-08-17', 'status': 'available', 'spots': [{'status': 'available', 'start_time': '2020-08-17T14:00:00-07:00'}], 'invitee_events': []}\n",
            "{'date': '2020-08-18', 'status': 'available', 'spots': [{'status': 'available', 'start_time': '2020-08-18T14:00:00-07:00'}], 'invitee_events': []}\n",
            "{'date': '2020-08-19', 'status': 'available', 'spots': [{'status': 'available', 'start_time': '2020-08-19T13:00:00-07:00'}, {'status': 'available', 'start_time': '2020-08-19T14:00:00-07:00'}], 'invitee_events': []}\n",
            "{'date': '2020-08-20', 'status': 'unavailable', 'spots': [], 'invitee_events': []}\n",
            "{'date': '2020-08-21', 'status': 'unavailable', 'spots': [], 'invitee_events': []}\n",
            "{'date': '2020-08-24', 'status': 'unavailable', 'spots': [], 'invitee_events': []}\n",
            "{'date': '2020-08-25', 'status': 'unavailable', 'spots': [], 'invitee_events': []}\n",
            "{'date': '2020-08-26', 'status': 'unavailable', 'spots': [], 'invitee_events': []}\n",
            "{'date': '2020-08-27', 'status': 'unavailable', 'spots': [], 'invitee_events': []}\n",
            "{'date': '2020-08-28', 'status': 'unavailable', 'spots': [], 'invitee_events': []}\n",
            "{'date': '2020-08-31', 'status': 'unavailable', 'spots': [], 'invitee_events': []}\n",
            "{'date': '2020-09-01', 'status': 'unavailable', 'spots': [], 'invitee_events': []}\n"
          ],
          "name": "stdout"
        },
        {
          "output_type": "execute_result",
          "data": {
            "text/plain": [
              "[None,\n",
              " None,\n",
              " None,\n",
              " None,\n",
              " None,\n",
              " None,\n",
              " None,\n",
              " None,\n",
              " None,\n",
              " None,\n",
              " None,\n",
              " None,\n",
              " None,\n",
              " None,\n",
              " None,\n",
              " None,\n",
              " None,\n",
              " None,\n",
              " None,\n",
              " None,\n",
              " None,\n",
              " None,\n",
              " None,\n",
              " None,\n",
              " None,\n",
              " None,\n",
              " None,\n",
              " None,\n",
              " None,\n",
              " None,\n",
              " None,\n",
              " None,\n",
              " None,\n",
              " None,\n",
              " None,\n",
              " None,\n",
              " None,\n",
              " None,\n",
              " None,\n",
              " None,\n",
              " None,\n",
              " None]"
            ]
          },
          "metadata": {
            "tags": []
          },
          "execution_count": 89
        }
      ]
    },
    {
      "cell_type": "code",
      "metadata": {
        "id": "7dsnRx37M_Lq",
        "colab_type": "code",
        "colab": {}
      },
      "source": [
        ""
      ],
      "execution_count": null,
      "outputs": []
    }
  ]
}